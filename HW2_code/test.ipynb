{
 "cells": [
  {
   "cell_type": "code",
   "execution_count": 1,
   "metadata": {},
   "outputs": [],
   "source": [
    "import Pkg\n",
    "Pkg.instantiate()"
   ]
  },
  {
   "cell_type": "code",
   "execution_count": 2,
   "metadata": {},
   "outputs": [],
   "source": [
    "using BenchmarkTools: @btime, @belapsed, @ballocated\n",
    "using LoopVectorization: @turbo"
   ]
  },
  {
   "cell_type": "code",
   "execution_count": 3,
   "metadata": {},
   "outputs": [],
   "source": [
    "using LinearAlgebra: mul!"
   ]
  },
  {
   "cell_type": "code",
   "execution_count": 4,
   "metadata": {},
   "outputs": [],
   "source": [
    "using CairoMakie"
   ]
  },
  {
   "cell_type": "code",
   "execution_count": 63,
   "metadata": {},
   "outputs": [
    {
     "data": {
      "text/plain": [
       "oblivious_add_to_A_B_times_C! (generic function with 1 method)"
      ]
     },
     "metadata": {},
     "output_type": "display_data"
    }
   ],
   "source": [
    "function add_to_A_B_times_C!(A, B, C)\n",
    "    @turbo for j in axes(C, 2)\n",
    "        for k in axes(B, 2)\n",
    "            for i in axes(A, 1)\n",
    "                A[i, j] += B[i, k] * C[k, j]\n",
    "            end\n",
    "        end\n",
    "    end\n",
    "end\n",
    "\n",
    "function add_to_A_B_times_C!(A, B, C, bks)\n",
    "    variable = zeros(7, 2)\n",
    "    for j in 1:ceil(Int, size(C, 2)/bks)\n",
    "        # println('j', j)\n",
    "        for k in 1:ceil(Int, size(B, 2)/bks)\n",
    "            # print('k', k)\n",
    "            for i in 1:ceil(Int, size(A, 1)/bks)\n",
    "                # print('i', i)\n",
    "                for block_j in Int((j-1)*bks):min(Int((j)*bks-1), size(C, 2)-1)\n",
    "                    # println()\n",
    "                    # print(' ', 'b', ' ', 'j', block_j)\n",
    "                    for block_k in Int((k-1)*bks):min(Int((k)*bks-1), size(B, 2)-1)\n",
    "                        # print(' ', 'k', block_k)\n",
    "                        for block_i in Int((i-1)*bks):min(Int((i)*bks-1), size(A, 1)-1)\n",
    "                            # print(' ', 'i', block_i)\n",
    "                            A[block_i+1, block_j+1] += B[block_i+1, block_k+1] * C[block_k+1, block_j+1]\n",
    "                        end\n",
    "                    end\n",
    "                end\n",
    "                # println()\n",
    "            end\n",
    "        end\n",
    "    end\n",
    "end\n",
    "\n",
    "function oblivious_add_to_A_B_times_C!(A, B, C, bks)\n",
    "    i_size = size(A, 1)\n",
    "    j_size = size(C, 2)\n",
    "    k_size = size(B, 2)\n",
    "\n",
    "    # div(i_size, 2) = div(div(i_size, 2),2)\n",
    "    # div(j_size, 2) = div(div(j_size, 2),2)\n",
    "    # div(k_size, 2) = div(div(k_size, 2),2)\n",
    "\n",
    "    # If we want to further subdivide\n",
    "    if min(i_size, j_size, k_size) > bks\n",
    "        # a11 = b11*c11 + b12 * c21\n",
    "        oblivious_add_to_A_B_times_C!(\n",
    "            @view(A[1:div(i_size, 2), 1:div(j_size, 2)]),\n",
    "            @view(B[1:div(i_size, 2), 1:div(k_size, 2)]),\n",
    "            @view(C[1:div(k_size, 2), 1:div(j_size, 2)]),\n",
    "            bks\n",
    "        )\n",
    "        oblivious_add_to_A_B_times_C!(\n",
    "            @view(A[1:div(i_size, 2), 1:div(j_size, 2)]),\n",
    "            @view(B[1:div(i_size, 2), div(k_size, 2)+1:end]),\n",
    "            @view(C[div(k_size, 2)+1:end, 1:div(j_size, 2)]),\n",
    "            bks\n",
    "        )\n",
    "        # a12 = b11*c12 + b12 * c22\n",
    "        oblivious_add_to_A_B_times_C!(\n",
    "            @view(A[1:div(i_size, 2), div(j_size, 2)+1:end]),\n",
    "            @view(B[1:div(i_size, 2), 1:div(k_size, 2)]),\n",
    "            @view(C[1:div(k_size, 2), div(j_size, 2)+1:end]),\n",
    "            bks\n",
    "        )\n",
    "        oblivious_add_to_A_B_times_C!(\n",
    "            @view(A[1:div(i_size, 2), div(j_size, 2)+1:end]),\n",
    "            @view(B[1:div(i_size, 2), div(k_size, 2)+1:end]),\n",
    "            @view(C[div(k_size, 2)+1:end, div(j_size, 2)+1:end]),\n",
    "            bks\n",
    "        )\n",
    "        # a21 = b21*c11 + b22 * c21\n",
    "        oblivious_add_to_A_B_times_C!(\n",
    "            @view(A[div(i_size, 2)+1:end, 1:div(j_size, 2)]),\n",
    "            @view(B[div(i_size, 2)+1:end, 1:div(k_size, 2)]),\n",
    "            @view(C[1:div(k_size, 2), 1:div(j_size, 2)]),\n",
    "            bks\n",
    "        )\n",
    "        oblivious_add_to_A_B_times_C!(\n",
    "            @view(A[div(i_size, 2)+1:end, 1:div(j_size, 2)]),\n",
    "            @view(B[div(i_size, 2)+1:end, div(k_size, 2)+1:end]),\n",
    "            @view(C[div(k_size, 2)+1:end, 1:div(j_size, 2)]),\n",
    "            bks\n",
    "        )\n",
    "        # a22 = b21*c12 + b22 * c22\n",
    "        oblivious_add_to_A_B_times_C!(\n",
    "            @view(A[div(i_size, 2)+1:end, div(j_size, 2)+1:end]),\n",
    "            @view(B[div(i_size, 2)+1:end, 1:div(k_size, 2)]),\n",
    "            @view(C[1:div(k_size, 2), div(j_size, 2)+1:end]),\n",
    "            bks\n",
    "        )\n",
    "        oblivious_add_to_A_B_times_C!(\n",
    "            @view(A[div(i_size, 2)+1:end, div(j_size, 2)+1:end]),\n",
    "            @view(B[div(i_size, 2)+1:end, div(k_size, 2)+1:end]),\n",
    "            @view(C[div(k_size, 2)+1:end, div(j_size, 2)+1:end]),\n",
    "            bks\n",
    "        )\n",
    "    #If we are ready to break the recursion\n",
    "    else\n",
    "        add_to_A_B_times_C!(A, B, C)\n",
    "    end\n",
    "end"
   ]
  },
  {
   "cell_type": "code",
   "execution_count": 64,
   "metadata": {},
   "outputs": [
    {
     "name": "stdout",
     "output_type": "stream",
     "text": [
      "Testing for memory allocation of blocked matmul...\n"
     ]
    },
    {
     "name": "stdout",
     "output_type": "stream",
     "text": [
      "176"
     ]
    },
    {
     "ename": "AssertionError",
     "evalue": "AssertionError: allocated_memory == 0",
     "output_type": "error",
     "traceback": [
      "AssertionError: allocated_memory == 0\n",
      "\n",
      "Stacktrace:\n",
      " [1] top-level scope\n",
      "   @ ~/classes/6643/HW2_code/test.ipynb:12"
     ]
    }
   ],
   "source": [
    "# Testing blocked matmul function\n",
    "i = 10\n",
    "A = zeros(i, 6)\n",
    "B = rand(1:6, i, 6)\n",
    "C = rand(1:6, 6, 6)\n",
    "# println(A)\n",
    "# println(B)\n",
    "# println(C)\n",
    "println(\"Testing for memory allocation of blocked matmul...\")\n",
    "allocated_memory = @ballocated add_to_A_B_times_C!(A, B, C, 2)\n",
    "print(allocated_memory)\n",
    "@assert allocated_memory == 0\n",
    "println(\"No memory allocated, good!\")\n",
    "println(\"Testing correctness of blocked matmul...\")\n",
    "A .= 0; \n",
    "# println()\n",
    "# display(A)\n",
    "oblivious_add_to_A_B_times_C!(A, B, C, 2)\n",
    "display(A)\n",
    "display(B*C)\n",
    "# display(A)\n",
    "\n",
    "@assert A ≈ B * C\n",
    "println(\"Result correct, good!\")"
   ]
  },
  {
   "cell_type": "code",
   "execution_count": null,
   "metadata": {},
   "outputs": [],
   "source": [
    "# Testing blocked matmul function\n",
    "A = zeros(6, 2)\n",
    "B = rand(1:6, 6, 4)\n",
    "C = rand(1:6, 4, 2)\n",
    "# println(A)\n",
    "# println(B)\n",
    "# println(C)\n",
    "# println(\"Testing for memory allocation of blocked matmul...\")\n",
    "# allocated_memory = @ballocated add_to_A_B_times_C!(A, B, C, 301)\n",
    "# @assert allocated_memory == 0\n",
    "# println(\"No memory allocated, good!\")\n",
    "# println(\"Testing correctness of blocked matmul...\")\n",
    "A .= 0; \n",
    "# println()\n",
    "println(add_to_A_B_times_C!(A, B, C, 2))\n",
    "println(B*C)\n",
    "\n",
    "@assert A ≈ B * C\n",
    "println(\"Result correct, good!\")"
   ]
  },
  {
   "cell_type": "code",
   "execution_count": null,
   "metadata": {},
   "outputs": [],
   "source": [
    "# Testing blocked matmul function\n",
    "A = zeros(2014, 301)\n",
    "B = randn(2014, 1037)\n",
    "C = randn(1037, 301)\n",
    "println(\"Testing for memory allocation of blocked matmul...\")\n",
    "allocated_memory = @ballocated add_to_A_B_times_C!(A, B, C, 301)\n",
    "print(allocated_memory)\n",
    "@assert allocated_memory == 0\n",
    "println(\"No memory allocated, good!\")\n",
    "println(\"Testing correctness of blocked matmul...\")\n",
    "A .= 0; add_to_A_B_times_C!(A, B, C, 301)\n",
    "@assert A ≈ B * C\n",
    "println(\"Result correct, good!\")"
   ]
  },
  {
   "cell_type": "code",
   "execution_count": 13,
   "metadata": {},
   "outputs": [
    {
     "data": {
      "text/plain": [
       "5×4 Matrix{Float64}:\n",
       " 0.0  0.0  0.0  0.0\n",
       " 0.0  0.0  0.0  0.0\n",
       " 0.0  0.0  0.0  0.0\n",
       " 0.0  0.0  0.0  0.0\n",
       " 0.0  0.0  0.0  0.0"
      ]
     },
     "metadata": {},
     "output_type": "display_data"
    },
    {
     "data": {
      "text/plain": [
       "5×4 Matrix{Float64}:\n",
       " 5.0  5.0  5.0  5.0\n",
       " 5.0  5.0  5.0  5.0\n",
       " 5.0  5.0  5.0  5.0\n",
       " 5.0  5.0  5.0  5.0\n",
       " 5.0  5.0  5.0  5.0"
      ]
     },
     "metadata": {},
     "output_type": "display_data"
    },
    {
     "ename": "LoadError",
     "evalue": "LoadError: ArgumentError: Invalid use of @view macro: argument must be a reference expression A[...].\nin expression starting at /home/jslaby6/classes/6643/HW2_code/test.ipynb:18",
     "output_type": "error",
     "traceback": [
      "LoadError: ArgumentError: Invalid use of @view macro: argument must be a reference expression A[...].\n",
      "in expression starting at /home/jslaby6/classes/6643/HW2_code/test.ipynb:18\n",
      "\n",
      "Stacktrace:\n",
      "  [1] var\"@view\"(__source__::LineNumberNode, __module__::Module, ex::Any)\n",
      "    @ Base ./views.jl:136\n",
      "  [2] eval\n",
      "    @ ./boot.jl:368 [inlined]\n",
      "  [3] include_string(mapexpr::typeof(REPL.softscope), mod::Module, code::String, filename::String)\n",
      "    @ Base ./loading.jl:1428\n",
      "  [4] #invokelatest#2\n",
      "    @ ./essentials.jl:729 [inlined]\n",
      "  [5] invokelatest\n",
      "    @ ./essentials.jl:726 [inlined]\n",
      "  [6] (::VSCodeServer.var\"#198#199\"{VSCodeServer.NotebookRunCellArguments, String})()\n",
      "    @ VSCodeServer ~/.vscode-server/extensions/julialang.language-julia-1.38.2/scripts/packages/VSCodeServer/src/serve_notebook.jl:19\n",
      "  [7] withpath(f::VSCodeServer.var\"#198#199\"{VSCodeServer.NotebookRunCellArguments, String}, path::String)\n",
      "    @ VSCodeServer ~/.vscode-server/extensions/julialang.language-julia-1.38.2/scripts/packages/VSCodeServer/src/repl.jl:249\n",
      "  [8] notebook_runcell_request(conn::VSCodeServer.JSONRPC.JSONRPCEndpoint{Base.PipeEndpoint, Base.PipeEndpoint}, params::VSCodeServer.NotebookRunCellArguments)\n",
      "    @ VSCodeServer ~/.vscode-server/extensions/julialang.language-julia-1.38.2/scripts/packages/VSCodeServer/src/serve_notebook.jl:13\n",
      "  [9] dispatch_msg(x::VSCodeServer.JSONRPC.JSONRPCEndpoint{Base.PipeEndpoint, Base.PipeEndpoint}, dispatcher::VSCodeServer.JSONRPC.MsgDispatcher, msg::Dict{String, Any})\n",
      "    @ VSCodeServer.JSONRPC ~/.vscode-server/extensions/julialang.language-julia-1.38.2/scripts/packages/JSONRPC/src/typed.jl:67\n",
      " [10] serve_notebook(pipename::String, outputchannel_logger::Base.CoreLogging.SimpleLogger; crashreporting_pipename::String)\n",
      "    @ VSCodeServer ~/.vscode-server/extensions/julialang.language-julia-1.38.2/scripts/packages/VSCodeServer/src/serve_notebook.jl:139\n",
      " [11] top-level scope\n",
      "    @ ~/.vscode-server/extensions/julialang.language-julia-1.38.2/scripts/notebook/notebook.jl:32"
     ]
    }
   ],
   "source": [
    "function test!(x)\n",
    "    for i in axes(x, 1)\n",
    "        for j in axes(x, 2)\n",
    "            x[i, j] += 5\n",
    "        end\n",
    "    end\n",
    "end\n",
    "\n",
    "A = zeros(5,4)\n",
    "\n",
    "display(A)\n",
    "# display(test(view(A, 1:3, 2:4)))\n",
    "test!(A)\n",
    "# A *= 5\n",
    "display(A)\n",
    "# parent(A)\n",
    "\n",
    "@view A\n",
    "\n"
   ]
  }
 ],
 "metadata": {
  "kernelspec": {
   "display_name": "Julia 1.8.5",
   "language": "julia",
   "name": "julia-1.8"
  },
  "language_info": {
   "file_extension": ".jl",
   "mimetype": "application/julia",
   "name": "julia",
   "version": "1.8.5"
  },
  "orig_nbformat": 4
 },
 "nbformat": 4,
 "nbformat_minor": 2
}
