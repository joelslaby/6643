{
 "cells": [
  {
   "cell_type": "code",
   "execution_count": 1,
   "metadata": {},
   "outputs": [],
   "source": [
    "import Pkg.instantiate\n",
    "instantiate()"
   ]
  },
  {
   "cell_type": "code",
   "execution_count": 2,
   "metadata": {},
   "outputs": [],
   "source": [
    "using BenchmarkTools: @btime, @belapsed, @ballocated\n",
    "using LoopVectorization: @turbo"
   ]
  },
  {
   "cell_type": "code",
   "execution_count": 3,
   "metadata": {},
   "outputs": [],
   "source": [
    "using LinearAlgebra: mul!"
   ]
  },
  {
   "cell_type": "code",
   "execution_count": 4,
   "metadata": {},
   "outputs": [],
   "source": [
    "using CairoMakie"
   ]
  },
  {
   "cell_type": "code",
   "execution_count": 40,
   "metadata": {},
   "outputs": [
    {
     "data": {
      "text/plain": [
       "oblivious_add_to_A_B_times_C! (generic function with 1 method)"
      ]
     },
     "execution_count": 40,
     "metadata": {},
     "output_type": "execute_result"
    }
   ],
   "source": [
    "function add_to_A_B_times_C!(A, B, C)\n",
    "    @turbo for j in axes(C, 2)\n",
    "        for k in axes(B, 2)\n",
    "            for i in axes(A, 1)\n",
    "                A[i, j] += B[i, k] * C[k, j]\n",
    "            end\n",
    "        end\n",
    "    end\n",
    "    return A\n",
    "end\n",
    "\n",
    "function add_to_A_B_times_C!(A, B, C, bks)\n",
    "    variable = zeros(7, 2)\n",
    "    for j in 1:ceil(Int, size(C, 2)/bks)\n",
    "        # println('j', j)\n",
    "        for k in 1:ceil(Int, size(B, 2)/bks)\n",
    "            # print('k', k)\n",
    "            for i in 1:ceil(Int, size(A, 1)/bks)\n",
    "                # print('i', i)\n",
    "                for block_j in Int((j-1)*bks):min(Int((j)*bks-1), size(C, 2)-1)\n",
    "                    # println()\n",
    "                    # print(' ', 'b', ' ', 'j', block_j)\n",
    "                    for block_k in Int((k-1)*bks):min(Int((k)*bks-1), size(B, 2)-1)\n",
    "                        # print(' ', 'k', block_k)\n",
    "                        for block_i in Int((i-1)*bks):min(Int((i)*bks-1), size(A, 1)-1)\n",
    "                            # print(' ', 'i', block_i)\n",
    "                            A[block_i+1, block_j+1] += B[block_i+1, block_k+1] * C[block_k+1, block_j+1]\n",
    "                        end\n",
    "                    end\n",
    "                end\n",
    "                # println()\n",
    "            end\n",
    "        end\n",
    "    end\n",
    "    return(A)\n",
    "end\n",
    "\n",
    "function oblivious_add_to_A_B_times_C!(A, B, C, bks)\n",
    "    i_size = size(A, 1)\n",
    "    j_size = size(C, 2)\n",
    "    k_size = size(B, 2)\n",
    "\n",
    "    i_size = div(i_size,2)\n",
    "    j_size = div(j_size,2)\n",
    "    k_size = div(k_size,2)\n",
    "\n",
    "    # println(i_size, j_size, k_size)\n",
    "    # display(A)\n",
    "    # display(B)\n",
    "    # display(C)\n",
    "\n",
    "    # display(B[1:i_size, 1:k_size])\n",
    "    # display(B[i_size+1:end, 1:k_size])\n",
    "    # display(B[1:i_size, k_size+1:end])\n",
    "    # display(B[i_size+1:end, k_size+1:end])\n",
    "\n",
    "    # display(A)\n",
    "    display(B)\n",
    "    display(C)\n",
    "    # If we want to further subdivide\n",
    "    if min(i_size, j_size, k_size) > bks\n",
    "        println('Y','E','S', 1)\n",
    "        A[1:i_size, 1:j_size] += oblivious_add_to_A_B_times_C!(\n",
    "            A[1:i_size, 1:j_size],\n",
    "            B[1:i_size, 1:k_size],\n",
    "            C[1:k_size, 1:j_size],\n",
    "            bks\n",
    "        )\n",
    "        display(A)\n",
    "        println('Y','E','S', 2)\n",
    "        A[1:i_size, j_size+1:end] += oblivious_add_to_A_B_times_C!(\n",
    "            A[1:i_size, j_size+1:end],\n",
    "            B[1:i_size, k_size+1:end],\n",
    "            C[1:k_size, j_size+1:end],\n",
    "            bks\n",
    "        )\n",
    "        display(A)\n",
    "        println('Y','E','S', 3)\n",
    "        A[i_size+1:end, 1:j_size] += oblivious_add_to_A_B_times_C!(\n",
    "            A[i_size+1:end, 1:j_size],\n",
    "            B[i_size+1:end, 1:k_size],\n",
    "            C[k_size+1:end, 1:j_size],\n",
    "            bks\n",
    "        )\n",
    "        display(A)\n",
    "        println('Y','E','S', 4)\n",
    "        A[i_size+1:end, j_size+1:end] += oblivious_add_to_A_B_times_C!(\n",
    "            A[i_size+1:end, j_size+1:end],\n",
    "            B[i_size+1:end, k_size+1:end],\n",
    "            C[k_size+1:end, j_size+1:end],\n",
    "            bks\n",
    "        )\n",
    "        display(A)\n",
    "    #If we are ready to break the recursion\n",
    "    else\n",
    "        println('N','O')\n",
    "        return add_to_A_B_times_C!(A, B, C)\n",
    "    end\n",
    "end"
   ]
  },
  {
   "cell_type": "code",
   "execution_count": 42,
   "metadata": {},
   "outputs": [
    {
     "data": {
      "text/plain": [
       "12×6 Matrix{Int64}:\n",
       " 1  3  5  3  4  6\n",
       " 5  2  6  6  2  5\n",
       " 6  2  4  6  1  5\n",
       " 1  3  3  6  4  5\n",
       " 4  6  3  2  5  4\n",
       " 4  5  1  4  1  6\n",
       " 5  2  4  4  4  3\n",
       " 6  6  1  6  4  6\n",
       " 2  6  6  6  1  2\n",
       " 6  4  1  2  5  5\n",
       " 6  2  1  2  3  1\n",
       " 4  5  3  2  2  1"
      ]
     },
     "metadata": {},
     "output_type": "display_data"
    },
    {
     "data": {
      "text/plain": [
       "6×6 Matrix{Int64}:\n",
       " 1  1  6  4  2  3\n",
       " 1  2  1  1  2  4\n",
       " 1  5  4  5  2  3\n",
       " 4  3  5  4  1  5\n",
       " 4  6  2  1  1  1\n",
       " 1  6  1  1  6  6"
      ]
     },
     "metadata": {},
     "output_type": "display_data"
    },
    {
     "name": "stdout",
     "output_type": "stream",
     "text": [
      "YES1\n"
     ]
    },
    {
     "data": {
      "text/plain": [
       "6×3 Matrix{Int64}:\n",
       " 1  3  5\n",
       " 5  2  6\n",
       " 6  2  4\n",
       " 1  3  3\n",
       " 4  6  3\n",
       " 4  5  1"
      ]
     },
     "metadata": {},
     "output_type": "display_data"
    },
    {
     "data": {
      "text/plain": [
       "3×3 Matrix{Int64}:\n",
       " 1  1  6\n",
       " 1  2  1\n",
       " 1  5  4"
      ]
     },
     "metadata": {},
     "output_type": "display_data"
    },
    {
     "name": "stdout",
     "output_type": "stream",
     "text": [
      "NO\n"
     ]
    },
    {
     "data": {
      "text/plain": [
       "12×6 Matrix{Float64}:\n",
       "  9.0  32.0  29.0  0.0  0.0  0.0\n",
       " 13.0  39.0  56.0  0.0  0.0  0.0\n",
       " 12.0  30.0  54.0  0.0  0.0  0.0\n",
       "  7.0  22.0  21.0  0.0  0.0  0.0\n",
       " 13.0  31.0  42.0  0.0  0.0  0.0\n",
       " 10.0  19.0  33.0  0.0  0.0  0.0\n",
       "  0.0   0.0   0.0  0.0  0.0  0.0\n",
       "  0.0   0.0   0.0  0.0  0.0  0.0\n",
       "  0.0   0.0   0.0  0.0  0.0  0.0\n",
       "  0.0   0.0   0.0  0.0  0.0  0.0\n",
       "  0.0   0.0   0.0  0.0  0.0  0.0\n",
       "  0.0   0.0   0.0  0.0  0.0  0.0"
      ]
     },
     "metadata": {},
     "output_type": "display_data"
    },
    {
     "name": "stdout",
     "output_type": "stream",
     "text": [
      "YES2\n"
     ]
    },
    {
     "data": {
      "text/plain": [
       "6×3 Matrix{Int64}:\n",
       " 3  4  6\n",
       " 6  2  5\n",
       " 6  1  5\n",
       " 6  4  5\n",
       " 2  5  4\n",
       " 4  1  6"
      ]
     },
     "metadata": {},
     "output_type": "display_data"
    },
    {
     "data": {
      "text/plain": [
       "3×3 Matrix{Int64}:\n",
       " 4  2  3\n",
       " 1  2  4\n",
       " 5  2  3"
      ]
     },
     "metadata": {},
     "output_type": "display_data"
    },
    {
     "name": "stdout",
     "output_type": "stream",
     "text": [
      "NO\n"
     ]
    },
    {
     "data": {
      "text/plain": [
       "12×6 Matrix{Float64}:\n",
       "  9.0  32.0  29.0  46.0  26.0  43.0\n",
       " 13.0  39.0  56.0  51.0  26.0  41.0\n",
       " 12.0  30.0  54.0  50.0  24.0  37.0\n",
       "  7.0  22.0  21.0  53.0  30.0  49.0\n",
       " 13.0  31.0  42.0  33.0  22.0  38.0\n",
       " 10.0  19.0  33.0  47.0  22.0  34.0\n",
       "  0.0   0.0   0.0   0.0   0.0   0.0\n",
       "  0.0   0.0   0.0   0.0   0.0   0.0\n",
       "  0.0   0.0   0.0   0.0   0.0   0.0\n",
       "  0.0   0.0   0.0   0.0   0.0   0.0\n",
       "  0.0   0.0   0.0   0.0   0.0   0.0\n",
       "  0.0   0.0   0.0   0.0   0.0   0.0"
      ]
     },
     "metadata": {},
     "output_type": "display_data"
    },
    {
     "name": "stdout",
     "output_type": "stream",
     "text": [
      "YES3\n"
     ]
    },
    {
     "data": {
      "text/plain": [
       "6×3 Matrix{Int64}:\n",
       " 5  2  4\n",
       " 6  6  1\n",
       " 2  6  6\n",
       " 6  4  1\n",
       " 6  2  1\n",
       " 4  5  3"
      ]
     },
     "metadata": {},
     "output_type": "display_data"
    },
    {
     "data": {
      "text/plain": [
       "3×3 Matrix{Int64}:\n",
       " 4  3  5\n",
       " 4  6  2\n",
       " 1  6  1"
      ]
     },
     "metadata": {},
     "output_type": "display_data"
    },
    {
     "name": "stdout",
     "output_type": "stream",
     "text": [
      "NO\n"
     ]
    },
    {
     "data": {
      "text/plain": [
       "12×6 Matrix{Float64}:\n",
       "  9.0  32.0  29.0  46.0  26.0  43.0\n",
       " 13.0  39.0  56.0  51.0  26.0  41.0\n",
       " 12.0  30.0  54.0  50.0  24.0  37.0\n",
       "  7.0  22.0  21.0  53.0  30.0  49.0\n",
       " 13.0  31.0  42.0  33.0  22.0  38.0\n",
       " 10.0  19.0  33.0  47.0  22.0  34.0\n",
       " 32.0  51.0  33.0   0.0   0.0   0.0\n",
       " 49.0  60.0  43.0   0.0   0.0   0.0\n",
       " 38.0  78.0  28.0   0.0   0.0   0.0\n",
       " 41.0  48.0  39.0   0.0   0.0   0.0\n",
       " 33.0  36.0  35.0   0.0   0.0   0.0\n",
       " 39.0  60.0  33.0   0.0   0.0   0.0"
      ]
     },
     "metadata": {},
     "output_type": "display_data"
    },
    {
     "name": "stdout",
     "output_type": "stream",
     "text": [
      "YES4\n"
     ]
    },
    {
     "data": {
      "text/plain": [
       "6×3 Matrix{Int64}:\n",
       " 4  4  3\n",
       " 6  4  6\n",
       " 6  1  2\n",
       " 2  5  5\n",
       " 2  3  1\n",
       " 2  2  1"
      ]
     },
     "metadata": {},
     "output_type": "display_data"
    },
    {
     "data": {
      "text/plain": [
       "3×3 Matrix{Int64}:\n",
       " 4  1  5\n",
       " 1  1  1\n",
       " 1  6  6"
      ]
     },
     "metadata": {},
     "output_type": "display_data"
    },
    {
     "name": "stdout",
     "output_type": "stream",
     "text": [
      "NO\n"
     ]
    },
    {
     "data": {
      "text/plain": [
       "12×6 Matrix{Float64}:\n",
       "  9.0  32.0  29.0  46.0  26.0  43.0\n",
       " 13.0  39.0  56.0  51.0  26.0  41.0\n",
       " 12.0  30.0  54.0  50.0  24.0  37.0\n",
       "  7.0  22.0  21.0  53.0  30.0  49.0\n",
       " 13.0  31.0  42.0  33.0  22.0  38.0\n",
       " 10.0  19.0  33.0  47.0  22.0  34.0\n",
       " 32.0  51.0  33.0  23.0  26.0  42.0\n",
       " 49.0  60.0  43.0  34.0  46.0  70.0\n",
       " 38.0  78.0  28.0  27.0  19.0  43.0\n",
       " 41.0  48.0  39.0  18.0  37.0  45.0\n",
       " 33.0  36.0  35.0  12.0  11.0  19.0\n",
       " 39.0  60.0  33.0  11.0  10.0  18.0"
      ]
     },
     "metadata": {},
     "output_type": "display_data"
    },
    {
     "data": {
      "text/plain": [
       "12×6 Matrix{Float64}:\n",
       "  9.0  32.0  29.0  46.0  26.0  43.0\n",
       " 13.0  39.0  56.0  51.0  26.0  41.0\n",
       " 12.0  30.0  54.0  50.0  24.0  37.0\n",
       "  7.0  22.0  21.0  53.0  30.0  49.0\n",
       " 13.0  31.0  42.0  33.0  22.0  38.0\n",
       " 10.0  19.0  33.0  47.0  22.0  34.0\n",
       " 32.0  51.0  33.0  23.0  26.0  42.0\n",
       " 49.0  60.0  43.0  34.0  46.0  70.0\n",
       " 38.0  78.0  28.0  27.0  19.0  43.0\n",
       " 41.0  48.0  39.0  18.0  37.0  45.0\n",
       " 33.0  36.0  35.0  12.0  11.0  19.0\n",
       " 39.0  60.0  33.0  11.0  10.0  18.0"
      ]
     },
     "metadata": {},
     "output_type": "display_data"
    },
    {
     "data": {
      "text/plain": [
       "12×6 Matrix{Int64}:\n",
       " 43  101  58  54  61   85\n",
       " 50   99  95  83  64  103\n",
       " 45   84  91  76  61   99\n",
       " 52   94  64  55  54   88\n",
       " 45   91  66  54  57   84\n",
       " 36   73  61  49  61   92\n",
       " 46   83  79  65  48   77\n",
       " 59  101  90  69  72  115\n",
       " 44   80  76  71  47   91\n",
       " 44   85  69  51  59   82\n",
       " 30   45  59  43  29   48\n",
       " 29   53  56  47  34   59"
      ]
     },
     "metadata": {},
     "output_type": "display_data"
    },
    {
     "ename": "LoadError",
     "evalue": "AssertionError: A ≈ B * C",
     "output_type": "error",
     "traceback": [
      "AssertionError: A ≈ B * C",
      "",
      "Stacktrace:",
      " [1] top-level scope",
      "   @ In[42]:21"
     ]
    }
   ],
   "source": [
    "# Testing blocked matmul function\n",
    "A = zeros(12, 6)\n",
    "B = rand(1:6, 12, 6)\n",
    "C = rand(1:6, 6, 6)\n",
    "# println(A)\n",
    "# println(B)\n",
    "# println(C)\n",
    "# println(\"Testing for memory allocation of blocked matmul...\")\n",
    "# allocated_memory = @ballocated add_to_A_B_times_C!(A, B, C, 301)\n",
    "# @assert allocated_memory == 0\n",
    "# println(\"No memory allocated, good!\")\n",
    "# println(\"Testing correctness of blocked matmul...\")\n",
    "A .= 0; \n",
    "# println()\n",
    "# display(A)\n",
    "oblivious_add_to_A_B_times_C!(A, B, C, 2)\n",
    "display(A)\n",
    "display(B*C)\n",
    "# display(A)\n",
    "\n",
    "@assert A ≈ B * C\n",
    "println(\"Result correct, good!\")"
   ]
  },
  {
   "cell_type": "code",
   "execution_count": null,
   "metadata": {},
   "outputs": [],
   "source": [
    "# Testing blocked matmul function\n",
    "A = zeros(6, 2)\n",
    "B = rand(1:6, 6, 4)\n",
    "C = rand(1:6, 4, 2)\n",
    "# println(A)\n",
    "# println(B)\n",
    "# println(C)\n",
    "# println(\"Testing for memory allocation of blocked matmul...\")\n",
    "# allocated_memory = @ballocated add_to_A_B_times_C!(A, B, C, 301)\n",
    "# @assert allocated_memory == 0\n",
    "# println(\"No memory allocated, good!\")\n",
    "# println(\"Testing correctness of blocked matmul...\")\n",
    "A .= 0; \n",
    "# println()\n",
    "println(add_to_A_B_times_C!(A, B, C, 2))\n",
    "println(B*C)\n",
    "\n",
    "@assert A ≈ B * C\n",
    "println(\"Result correct, good!\")"
   ]
  },
  {
   "cell_type": "code",
   "execution_count": null,
   "metadata": {},
   "outputs": [],
   "source": [
    "# Testing blocked matmul function\n",
    "A = zeros(2014, 301)\n",
    "B = randn(2014, 1037)\n",
    "C = randn(1037, 301)\n",
    "println(\"Testing for memory allocation of blocked matmul...\")\n",
    "allocated_memory = @ballocated add_to_A_B_times_C!(A, B, C, 301)\n",
    "print(allocated_memory)\n",
    "@assert allocated_memory == 0\n",
    "println(\"No memory allocated, good!\")\n",
    "println(\"Testing correctness of blocked matmul...\")\n",
    "A .= 0; add_to_A_B_times_C!(A, B, C, 301)\n",
    "@assert A ≈ B * C\n",
    "println(\"Result correct, good!\")"
   ]
  },
  {
   "cell_type": "code",
   "execution_count": null,
   "metadata": {},
   "outputs": [],
   "source": [
    "A = rand(5, 4)\n",
    "print(A)\n",
    "A[1:3, 2:4]\n"
   ]
  },
  {
   "cell_type": "code",
   "execution_count": null,
   "metadata": {},
   "outputs": [],
   "source": [
    "A = [1, 2, 3]\n",
    "for i in Int(1:1.5)\n",
    "    println(A[i])\n",
    "end"
   ]
  },
  {
   "cell_type": "code",
   "execution_count": null,
   "metadata": {},
   "outputs": [],
   "source": [
    "x =5\n",
    "x/=2\n"
   ]
  }
 ],
 "metadata": {
  "kernelspec": {
   "display_name": "Julia 1.8.5",
   "language": "julia",
   "name": "julia-1.8"
  },
  "language_info": {
   "file_extension": ".jl",
   "mimetype": "application/julia",
   "name": "julia",
   "version": "1.8.5"
  },
  "orig_nbformat": 4
 },
 "nbformat": 4,
 "nbformat_minor": 2
}
