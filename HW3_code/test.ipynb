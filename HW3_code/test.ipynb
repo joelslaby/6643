{
 "cells": [
  {
   "cell_type": "code",
   "execution_count": 146,
   "metadata": {},
   "outputs": [],
   "source": [
    "import Pkg.instantiate\n",
    "instantiate()\n",
    "using BenchmarkTools: @ballocated\n",
    "using Random: randperm\n",
    "using LinearAlgebra\n",
    "using CairoMakie"
   ]
  },
  {
   "cell_type": "code",
   "execution_count": 97,
   "metadata": {},
   "outputs": [
    {
     "data": {
      "text/plain": [
       "4×4 Matrix{Float64}:\n",
       " 2.0  1.0  1.0  0.0\n",
       " 4.0  3.0  3.0  1.0\n",
       " 8.0  7.0  9.0  5.0\n",
       " 6.0  7.0  9.0  8.0"
      ]
     },
     "metadata": {},
     "output_type": "display_data"
    },
    {
     "data": {
      "text/plain": [
       "4-element Vector{Float64}:\n",
       " 2.0\n",
       " 2.0\n",
       " 2.0\n",
       " 2.0"
      ]
     },
     "metadata": {},
     "output_type": "display_data"
    },
    {
     "data": {
      "text/plain": [
       "4-element Vector{Float64}:\n",
       "  2.9999999999999987\n",
       " -1.9999999999999984\n",
       " -1.9999999999999998\n",
       "  1.9999999999999993"
      ]
     },
     "metadata": {},
     "output_type": "display_data"
    },
    {
     "data": {
      "text/plain": [
       "4×4 Matrix{Float64}:\n",
       " 2.0  1.0  1.0  0.0\n",
       " 2.0  1.0  1.0  1.0\n",
       " 4.0  3.0  2.0  2.0\n",
       " 3.0  4.0  1.0  2.0"
      ]
     },
     "metadata": {},
     "output_type": "display_data"
    }
   ],
   "source": [
    "A = float([2 1 1 0; 4 3 3 1; 8 7 9 5; 6 7 9 8])\n",
    "b = float([2;2;2;2])\n",
    "display(A)\n",
    "display(b)\n",
    "x_ref = A\\b\n",
    "display(x_ref)\n",
    "\n",
    "n = size(A, 1)\n",
    "for j=1:n\n",
    "    for k=1:j-1\n",
    "        for i=k+1:n\n",
    "            A[i, j] -= A[i, k] * A[k, j]\n",
    "        end\n",
    "    end\n",
    "\n",
    "    for i = j+1:n\n",
    "        A[i, j] /= A[j, j]\n",
    "    end\n",
    "end\n",
    "\n",
    "display(A)"
   ]
  },
  {
   "cell_type": "code",
   "execution_count": 107,
   "metadata": {},
   "outputs": [
    {
     "data": {
      "text/plain": [
       "4×4 Matrix{Float64}:\n",
       " 2.0  1.0  1.0  0.0\n",
       " 2.0  1.0  1.0  1.0\n",
       " 4.0  3.0  2.0  2.0\n",
       " 3.0  4.0  1.0  2.0"
      ]
     },
     "metadata": {},
     "output_type": "display_data"
    },
    {
     "data": {
      "text/plain": [
       "4-element Vector{Float64}:\n",
       "  3.0\n",
       " -2.0\n",
       " -2.0\n",
       "  2.0"
      ]
     },
     "metadata": {},
     "output_type": "display_data"
    }
   ],
   "source": [
    "n = length(b)\n",
    "x = float([2;2;2;2])\n",
    "display(A)\n",
    "# Solve Ly=b\n",
    "for i=1:n\n",
    "    for j = i-1:-1:1\n",
    "        x[i] -= A[i,j] * x[j]\n",
    "    end\n",
    "end\n",
    "\n",
    "#Solve Ux=y\n",
    "for i=n:-1:1\n",
    "    for j = i+1:n\n",
    "        x[i] -= A[i,j] * x[j]\n",
    "    end\n",
    "    x[i] /= A[i, i]\n",
    "end\n",
    "\n",
    "display(x)\n",
    "# for k=1:n\n",
    "#     for i=k+1:n\n",
    "#         A[i, k] /= A[k,k]\n",
    "#     end\n",
    "#     for j=k+1:n, i=k+1:n\n",
    "#         A[i,j] -= A[i,k] * A[k,j]\n",
    "#     end\n",
    "# end\n"
   ]
  },
  {
   "cell_type": "code",
   "execution_count": 46,
   "metadata": {},
   "outputs": [
    {
     "name": "stdout",
     "output_type": "stream",
     "text": [
      "54321"
     ]
    }
   ],
   "source": [
    "for j=5:-1:1\n",
    "    print(j)\n",
    "end"
   ]
  },
  {
   "cell_type": "code",
   "execution_count": 10,
   "metadata": {},
   "outputs": [
    {
     "data": {
      "text/plain": [
       "4×4 Matrix{Float64}:\n",
       " 2.0  1.0  1.0  0.0\n",
       " 4.0  3.0  3.0  1.0\n",
       " 8.0  7.0  9.0  5.0\n",
       " 6.0  7.0  9.0  8.0"
      ]
     },
     "metadata": {},
     "output_type": "display_data"
    },
    {
     "data": {
      "text/plain": [
       "4×4 Matrix{Float64}:\n",
       " 1.0    0.0       0.0       0.0\n",
       " 0.75   1.0       0.0       0.0\n",
       " 0.5   -0.285714  1.0       0.0\n",
       " 0.25  -0.428571  0.333333  1.0"
      ]
     },
     "metadata": {},
     "output_type": "display_data"
    },
    {
     "data": {
      "text/plain": [
       "4×4 Matrix{Float64}:\n",
       " 8.0  7.0    9.0        5.0\n",
       " 0.0  1.75   2.25       4.25\n",
       " 0.0  0.0   -0.857143  -0.285714\n",
       " 0.0  0.0    0.0        0.666667"
      ]
     },
     "metadata": {},
     "output_type": "display_data"
    },
    {
     "data": {
      "text/plain": [
       "4-element Vector{Int64}:\n",
       " 3\n",
       " 4\n",
       " 2\n",
       " 1"
      ]
     },
     "metadata": {},
     "output_type": "display_data"
    },
    {
     "data": {
      "text/plain": [
       "4-element Vector{Int64}:\n",
       " 3\n",
       " 4\n",
       " 2\n",
       " 1"
      ]
     },
     "metadata": {},
     "output_type": "display_data"
    },
    {
     "data": {
      "text/plain": [
       "4×4 Matrix{Float64}:\n",
       " 8.0    7.0        9.0        5.0\n",
       " 0.75   1.75       2.25       4.25\n",
       " 0.5   -0.285714  -0.857143  -0.285714\n",
       " 0.25  -0.428571   0.333333   0.666667"
      ]
     },
     "metadata": {},
     "output_type": "display_data"
    }
   ],
   "source": [
    "A = float([2 1 1 0; 4 3 3 1; 8 7 9 5; 6 7 9 8])\n",
    "display(A)\n",
    "\n",
    "L , U, p = lu(A)\n",
    "\n",
    "display(L)\n",
    "display(U)\n",
    "display(p)\n",
    "\n",
    "n = size(A, 1)\n",
    "P = collect(1 : n)\n",
    "for k=1:n\n",
    "    imx = k-1+argmax(abs.(A[k:end,k]))\n",
    "    for j=1:n\n",
    "        A[k,j],A[imx,j] = A[imx, j],A[k,j]\n",
    "    end\n",
    "    P[[k,imx]] = P[[imx,k]]\n",
    "\n",
    "    for i=k+1:n\n",
    "        A[i,k] /= A[k,k]\n",
    "    end\n",
    "\n",
    "    for j=k+1:n,i=k+1:n\n",
    "        A[i,j] -= A[i,k]*A[k,j]\n",
    "    end\n",
    "end\n",
    "display(P)\n",
    "display(A)"
   ]
  },
  {
   "cell_type": "code",
   "execution_count": 255,
   "metadata": {},
   "outputs": [
    {
     "data": {
      "text/plain": [
       "pivoted_LU! (generic function with 1 method)"
      ]
     },
     "metadata": {},
     "output_type": "display_data"
    }
   ],
   "source": [
    "function substitution!(x, LU, P = 1 : size(x, 1)) \n",
    "    # YOUR CODE HERE\n",
    "    n = length(x)\n",
    "    permute!(x, P)\n",
    "\n",
    "    # Solve Ly=b\n",
    "    for i=1:n\n",
    "        for j = i-1:-1:1\n",
    "            x[i] -= LU[i,j] * x[j]\n",
    "        end\n",
    "    end\n",
    "\n",
    "    #Solve Ux=y\n",
    "    for i=n:-1:1\n",
    "        for j = i+1:n\n",
    "            x[i] -= LU[i,j] * x[j]\n",
    "        end\n",
    "        x[i] /= LU[i, i]\n",
    "    end\n",
    "end\n",
    "\n",
    "#----------------------------------------\n",
    "# Problem b\n",
    "#----------------------------------------\n",
    "# This function takes in a matrix A and modifies\n",
    "# it in place, such that is contains the stricly\n",
    "# lower triangular part of L together with the\n",
    "# upper triangular part of U.\n",
    "function unpivoted_LU!(A)\n",
    "    # YOUR CODE HERE\n",
    "    n = size(A, 1)\n",
    "    for j=1:n\n",
    "        for k=1:j-1\n",
    "            for i=k+1:n\n",
    "                A[i, j] -= A[i, k] * A[k, j]\n",
    "            end\n",
    "        end\n",
    "\n",
    "        for i = j+1:n\n",
    "            A[i, j] /= A[j, j]\n",
    "        end\n",
    "    end\n",
    "end\n",
    "\n",
    "function pivoted_LU!(A)\n",
    "    # The array that will be used to keep track of the permutation\n",
    "    P = collect(1 : size(A, 1))\n",
    "    # YOUR CODE HERE\n",
    "    # returns the array representing the permutation\n",
    "    n = size(A, 1)\n",
    "    for k=1:n\n",
    "        imx = k-1+argmax(abs.(A[k:end,k]))\n",
    "        for j=1:n\n",
    "            A[k,j],A[imx,j] = A[imx, j],A[k,j]\n",
    "        end\n",
    "        P[[k,imx]] = P[[imx,k]]\n",
    "\n",
    "        for i=k+1:n\n",
    "            A[i,k] /= A[k,k]\n",
    "        end\n",
    "\n",
    "        for j=k+1:n,i=k+1:n\n",
    "            A[i,j] -= A[i,k]*A[k,j]\n",
    "        end\n",
    "    end\n",
    "    return P\n",
    "end"
   ]
  },
  {
   "cell_type": "code",
   "execution_count": 218,
   "metadata": {},
   "outputs": [
    {
     "data": {
      "text/plain": [
       "CairoMakie.Screen{PDF}\n"
      ]
     },
     "metadata": {},
     "output_type": "display_data"
    }
   ],
   "source": [
    "size_list = 2 .^ (2 : 10)\n",
    "error = Float64[]\n",
    "growth_factor = Float64[]\n",
    "\n",
    "function inf_norm(X)\n",
    "    return maximum(sum(X, dims=2))\n",
    "end\n",
    "\n",
    "for m = size_list\n",
    "    A = randn(m, m)\n",
    "    b = randn(m)\n",
    "    ref_norm = inf_norm(A)\n",
    "    reference_x = A \\ b\n",
    "    unpivoted_LU!(A) \n",
    "    substitution!(b, A)\n",
    "\n",
    "    push!(error, norm(reference_x - b)/norm(b))\n",
    "    push!(growth_factor, inf_norm(UpperTriangular(A))/ref_norm)\n",
    "end\n",
    "\n",
    "error_plot = scatter(size_list, error, axis=(yscale=log10, xscale=log2, xlabel=\"Matrix Size, m\", ylabel=\"Relative Error\"))\n",
    "save(\"relative_error.pdf\", error_plot)\n",
    "\n",
    "growth_factor_plot = scatter(size_list, growth_factor, axis=(yscale=log10, xscale=log2, xlabel=\"Matrix Size, m\", ylabel=\"Growth Factor\"))\n",
    "save(\"growth_factor.pdf\", growth_factor_plot)"
   ]
  },
  {
   "cell_type": "code",
   "execution_count": 203,
   "metadata": {},
   "outputs": [
    {
     "data": {
      "text/plain": [
       "4×4 Matrix{Float64}:\n",
       " 2.0  1.0  1.0  0.0\n",
       " 2.0  1.0  1.0  1.0\n",
       " 4.0  3.0  2.0  2.0\n",
       " 3.0  4.0  1.0  2.0"
      ]
     },
     "metadata": {},
     "output_type": "display_data"
    },
    {
     "name": "stdout",
     "output_type": "stream",
     "text": [
      "[4.0; 5.0; 11.0; 10.0;;]\n",
      "11.0\n",
      "4.0\n"
     ]
    }
   ],
   "source": [
    "A = float([2 1 1 0; 4 3 3 1; 8 7 9 5; 6 7 9 8])\n",
    "unpivoted_LU!(A)\n",
    "\n",
    "function inf_norm(X)\n",
    "    return maximum(sum(X, dims=2))\n",
    "end\n",
    "# sum_A = zeros(size(A, 1), 1) #(1:size(A, 1))\n",
    "# print(sum_A)\n",
    "# for i\n",
    "sum_list = sum(A, dims=2)\n",
    "println(sum_list)\n",
    "println(maximum(sum(A, dims=2)))\n",
    "println(inf_norm(UpperTriangular(A)))\n",
    "display(A)\n"
   ]
  },
  {
   "cell_type": "code",
   "execution_count": 219,
   "metadata": {},
   "outputs": [
    {
     "data": {
      "text/plain": [
       "4×4 Matrix{Float64}:\n",
       " 2.0  1.0  1.0  0.0\n",
       " 4.0  3.0  3.0  1.0\n",
       " 8.0  7.0  9.0  5.0\n",
       " 6.0  7.0  9.0  8.0"
      ]
     },
     "metadata": {},
     "output_type": "display_data"
    },
    {
     "data": {
      "text/plain": [
       "4×4 Matrix{Float64}:\n",
       " 1.0    0.0       0.0       0.0\n",
       " 0.75   1.0       0.0       0.0\n",
       " 0.5   -0.285714  1.0       0.0\n",
       " 0.25  -0.428571  0.333333  1.0"
      ]
     },
     "metadata": {},
     "output_type": "display_data"
    },
    {
     "data": {
      "text/plain": [
       "4×4 Matrix{Float64}:\n",
       " 8.0  7.0    9.0        5.0\n",
       " 0.0  1.75   2.25       4.25\n",
       " 0.0  0.0   -0.857143  -0.285714\n",
       " 0.0  0.0    0.0        0.666667"
      ]
     },
     "metadata": {},
     "output_type": "display_data"
    },
    {
     "data": {
      "text/plain": [
       "4-element Vector{Int64}:\n",
       " 3\n",
       " 4\n",
       " 2\n",
       " 1"
      ]
     },
     "metadata": {},
     "output_type": "display_data"
    },
    {
     "data": {
      "text/plain": [
       "4-element Vector{Int64}:\n",
       " 3\n",
       " 4\n",
       " 2\n",
       " 1"
      ]
     },
     "metadata": {},
     "output_type": "display_data"
    },
    {
     "data": {
      "text/plain": [
       "4×4 Matrix{Float64}:\n",
       " 8.0    7.0        9.0        5.0\n",
       " 0.75   1.75       2.25       4.25\n",
       " 0.5   -0.285714  -0.857143  -0.285714\n",
       " 0.25  -0.428571   0.333333   0.666667"
      ]
     },
     "metadata": {},
     "output_type": "display_data"
    }
   ],
   "source": [
    "A = float([2 1 1 0; 4 3 3 1; 8 7 9 5; 6 7 9 8])\n",
    "display(A)\n",
    "\n",
    "L , U, p = lu(A)\n",
    "\n",
    "# display(L)\n",
    "# display(U)\n",
    "# display(p)\n",
    "\n",
    "n = size(A, 1)\n",
    "P = collect(1 : n)\n",
    "for k=1:n\n",
    "    imx = k-1+argmax(abs.(A[k:end,k]))\n",
    "    for j=1:n\n",
    "        A[k,j],A[imx,j] = A[imx, j],A[k,j]\n",
    "    end\n",
    "    P[[k,imx]] = P[[imx,k]]\n",
    "\n",
    "    for i=k+1:n\n",
    "        A[i,k] /= A[k,k]\n",
    "    end\n",
    "\n",
    "    for j=k+1:n,i=k+1:n\n",
    "        A[i,j] -= A[i,k]*A[k,j]\n",
    "    end\n",
    "end\n",
    "display(P)\n",
    "display(A)"
   ]
  },
  {
   "cell_type": "code",
   "execution_count": 249,
   "metadata": {},
   "outputs": [
    {
     "data": {
      "text/plain": [
       "4-element Vector{Float64}:\n",
       "  0.9999999999999993\n",
       "  0.5000000000000008\n",
       " -1.4999999999999998\n",
       "  0.9999999999999997"
      ]
     },
     "metadata": {},
     "output_type": "display_data"
    },
    {
     "data": {
      "text/plain": [
       "4-element Vector{Float64}:\n",
       " 3.0\n",
       " 4.0\n",
       " 2.0\n",
       " 1.0"
      ]
     },
     "metadata": {},
     "output_type": "display_data"
    },
    {
     "data": {
      "text/plain": [
       "4×4 Matrix{Float64}:\n",
       " 8.0    7.0        9.0        5.0\n",
       " 0.75   1.75       2.25       4.25\n",
       " 0.5   -0.285714  -0.857143  -0.285714\n",
       " 0.25  -0.428571   0.333333   0.666667"
      ]
     },
     "metadata": {},
     "output_type": "display_data"
    },
    {
     "data": {
      "text/plain": [
       "4-element Vector{Float64}:\n",
       "  0.9999999999999991\n",
       "  0.500000000000001\n",
       " -1.4999999999999998\n",
       "  0.9999999999999997"
      ]
     },
     "metadata": {},
     "output_type": "display_data"
    }
   ],
   "source": [
    "A = float([2 1 1 0; 4 3 3 1; 8 7 9 5; 6 7 9 8])\n",
    "x = float([1;2;3;4])\n",
    "display(A\\x)\n",
    "\n",
    "L , U, p = lu(A)\n",
    "\n",
    "# display(L)\n",
    "# display(U)\n",
    "# display(p)\n",
    "\n",
    "n = size(A, 1)\n",
    "P = collect(1 : n)\n",
    "for k=1:n\n",
    "    imx = k-1+argmax(abs.(A[k:end,k]))\n",
    "    for j=1:n\n",
    "        A[k,j],A[imx,j] = A[imx, j],A[k,j]\n",
    "    end\n",
    "    P[[k,imx]] = P[[imx,k]]\n",
    "\n",
    "    for i=k+1:n\n",
    "        A[i,k] /= A[k,k]\n",
    "    end\n",
    "\n",
    "    for j=k+1:n,i=k+1:n\n",
    "        A[i,j] -= A[i,k]*A[k,j]\n",
    "    end\n",
    "end\n",
    "# display(P)\n",
    "# display(A)\n",
    "\n",
    "# n = length(b)\n",
    "# x = float([2;4;6;8])\n",
    "\n",
    "# for i=1:n\n",
    "#     P[i] = x[P[i]]\n",
    "# end\n",
    "# x=float(P)\n",
    "x = x[P]\n",
    "display(x)\n",
    "display(A)\n",
    "# Solve Ly=b\n",
    "for i=1:n\n",
    "    for j = i-1:-1:1\n",
    "        x[i] -= A[i,j] * x[j]\n",
    "    end\n",
    "end\n",
    "\n",
    "#Solve Ux=y\n",
    "for i=n:-1:1\n",
    "    for j = i+1:n\n",
    "        x[i] -= A[i,j] * x[j]\n",
    "    end\n",
    "    x[i] /= A[i, i]\n",
    "end\n",
    "\n",
    "display(x)"
   ]
  },
  {
   "cell_type": "code",
   "execution_count": 281,
   "metadata": {},
   "outputs": [
    {
     "data": {
      "text/plain": [
       "growth_matrix (generic function with 1 method)"
      ]
     },
     "metadata": {},
     "output_type": "display_data"
    }
   ],
   "source": [
    "function growth_matrix(m)\n",
    "    # YOUR CODE GOES HERE\n",
    "    A = zeros(m, m)\n",
    "    for i=1:m\n",
    "        A[i, i] = 1\n",
    "        A[i, m] = 1\n",
    "        for j=1:i-1\n",
    "            A[i, j] = -1\n",
    "        end\n",
    "    end\n",
    "    return(A)\n",
    "end"
   ]
  },
  {
   "cell_type": "code",
   "execution_count": 282,
   "metadata": {},
   "outputs": [
    {
     "data": {
      "text/plain": [
       "5×5 Matrix{Float64}:\n",
       "  1.0   0.0   0.0   0.0  1.0\n",
       " -1.0   1.0   0.0   0.0  1.0\n",
       " -1.0  -1.0   1.0   0.0  1.0\n",
       " -1.0  -1.0  -1.0   1.0  1.0\n",
       " -1.0  -1.0  -1.0  -1.0  1.0"
      ]
     },
     "metadata": {},
     "output_type": "display_data"
    }
   ],
   "source": [
    "A = growth_matrix(5)\n",
    "size_list = 2 .^ (2 : 10) \n",
    "growth_factor_pivot = Float64[]\n",
    "error_pivot = Float64[]\n",
    "\n",
    "function inf_norm(X)\n",
    "    return maximum(sum(X, dims=2))\n",
    "end\n",
    "\n",
    "for m = size_list\n",
    "    A = growth_matrix(m)\n",
    "    b = randn(m)\n",
    "    ref_norm = inf_norm(A)\n",
    "    reference_x = A \\ b\n",
    "    P = pivoted_LU!(A) \n",
    "    substitution!(b, A, P)\n",
    "\n",
    "    push!(error_pivot, norm(A*reference_x - b)/norm(b))\n",
    "    push!(growth_factor_pivot, inf_norm(UpperTriangular(A))/ref_norm)\n",
    "end\n",
    "\n",
    "error_plot = scatter(size_list, error_pivot, axis=(yscale=log10, xscale=log2, xlabel=\"Matrix Size, m\", ylabel=\"Relative Error\"))\n",
    "save(\"relative_error_pivot.pdf\", error_plot)\n",
    "\n",
    "# growth_factor_plot = scatter(size_list, growth_factor_pivot, axis=(yscale=log10, xscale=log2, xlabel=\"Matrix Size, m\", ylabel=\"Growth Factor\"))\n",
    "# save(\"growth_factor_pivot.pdf\", growth_factor_plot)"
   ]
  },
  {
   "cell_type": "code",
   "execution_count": 279,
   "metadata": {},
   "outputs": [
    {
     "data": {
      "text/plain": [
       "CairoMakie.Screen{PDF}\n"
      ]
     },
     "metadata": {},
     "output_type": "display_data"
    }
   ],
   "source": [
    "size_list = 2 .^ (2 : 10) \n",
    "growth_factor_pivot = Float64[]\n",
    "error_pivot = Float64[]\n",
    "\n",
    "function inf_norm(X)\n",
    "    return maximum(sum(X, dims=2))\n",
    "end\n",
    "\n",
    "for m = size_list\n",
    "    A = (randn(m, m) + 100 * I)[randperm(m), :]\n",
    "    b = randn(m)\n",
    "    ref_norm = inf_norm(A)\n",
    "    reference_x = A \\ b\n",
    "    P = pivoted_LU!(A) \n",
    "    substitution!(b, A, P)\n",
    "\n",
    "    push!(error_pivot, norm(reference_x - b)/norm(b))\n",
    "    push!(growth_factor_pivot, inf_norm(UpperTriangular(A))/ref_norm)\n",
    "end\n",
    "\n",
    "error_plot = scatter(size_list, error_pivot, axis=(yscale=log10, xscale=log2, xlabel=\"Matrix Size, m\", ylabel=\"Relative Error\"))\n",
    "save(\"relative_error_pivot.pdf\", error_plot)\n",
    "\n",
    "growth_factor_plot = scatter(size_list, growth_factor_pivot, axis=(yscale=log10, xscale=log2, xlabel=\"Matrix Size, m\", ylabel=\"Growth Factor\"))\n",
    "save(\"growth_factor_pivot.pdf\", growth_factor_plot)"
   ]
  }
 ],
 "metadata": {
  "kernelspec": {
   "display_name": "Julia 1.8.5",
   "language": "julia",
   "name": "julia-1.8"
  },
  "language_info": {
   "file_extension": ".jl",
   "mimetype": "application/julia",
   "name": "julia",
   "version": "1.8.5"
  },
  "orig_nbformat": 4
 },
 "nbformat": 4,
 "nbformat_minor": 2
}
