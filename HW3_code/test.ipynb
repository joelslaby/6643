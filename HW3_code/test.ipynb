{
 "cells": [
  {
   "cell_type": "code",
   "execution_count": 76,
   "metadata": {
    "vscode": {
     "languageId": "julia"
    }
   },
   "outputs": [],
   "source": [
    "import Pkg.instantiate\n",
    "instantiate()\n",
    "using BenchmarkTools: @ballocated\n",
    "using Random: randperm\n",
    "using LinearAlgebra\n",
    "using CairoMakie"
   ]
  },
  {
   "cell_type": "code",
   "execution_count": 87,
   "metadata": {
    "vscode": {
     "languageId": "julia"
    }
   },
   "outputs": [
    {
     "data": {
      "text/plain": [
       "4×4 Matrix{Float64}:\n",
       " 2.0  1.0  1.0  0.0\n",
       " 4.0  3.0  3.0  1.0\n",
       " 8.0  7.0  9.0  5.0\n",
       " 6.0  7.0  9.0  8.0"
      ]
     },
     "metadata": {},
     "output_type": "display_data"
    },
    {
     "data": {
      "text/plain": [
       "UniformScaling{Bool}\n",
       "true*I"
      ]
     },
     "metadata": {},
     "output_type": "display_data"
    },
    {
     "ename": "MethodError",
     "evalue": "MethodError: no method matching setindex!(::UniformScaling{Bool}, ::Float64, ::Int64, ::Int64)",
     "output_type": "error",
     "traceback": [
      "MethodError: no method matching setindex!(::UniformScaling{Bool}, ::Float64, ::Int64, ::Int64)\n",
      "\n",
      "Stacktrace:\n",
      " [1] top-level scope\n",
      "   @ ~/6643/HW3_code/test.ipynb:26"
     ]
    }
   ],
   "source": [
    "A = float([2 1 1 0; 4 3 3 1; 8 7 9 5; 6 7 9 8])\n",
    "\n",
    "display(A)\n",
    "L , U = lu(A)\n",
    "\n",
    "\n",
    "# n = size(A, 1)\n",
    "# for k=1:n\n",
    "#     @assert A[k, k] != 0\n",
    "#     for i=k+1:n\n",
    "#         A[i, k] /= A[k,k]\n",
    "#     end\n",
    "#     for i=k+1:n\n",
    "#         for j=k+1:n\n",
    "#             A[i, k] -= A[i,k] * A[k,j]\n",
    "#         end\n",
    "#     end\n",
    "# end\n",
    "\n",
    "m = size(A, 1)\n",
    "U = copy(A)\n",
    "L = I\n",
    "display(L)\n",
    "for k = 1:m-1\n",
    "    for j=k+1:m\n",
    "        L[j, k] = U[j,k] / U[k,k]\n",
    "    end\n",
    "end\n",
    "\n",
    "display(A)\n",
    "\n",
    "L = LowerTriangular(A)\n",
    "\n",
    "display(L)\n",
    "display(UpperTriangular(A))\n",
    "\n"
   ]
  }
 ],
 "metadata": {
  "language_info": {
   "name": "python"
  },
  "orig_nbformat": 4
 },
 "nbformat": 4,
 "nbformat_minor": 2
}
