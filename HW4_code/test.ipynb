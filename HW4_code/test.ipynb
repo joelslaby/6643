{
 "cells": [
  {
   "cell_type": "code",
   "execution_count": 4,
   "metadata": {},
   "outputs": [],
   "source": [
    "import Pkg.instantiate\n",
    "instantiate()\n",
    "using BenchmarkTools: @ballocated\n",
    "using LinearAlgebra: I, norm, istriu, qr\n",
    "using CairoMakie"
   ]
  },
  {
   "cell_type": "code",
   "execution_count": 5,
   "metadata": {},
   "outputs": [
    {
     "data": {
      "text/plain": [
       "4×4 Matrix{Float64}:\n",
       " 2.0  1.0  1.0  0.0\n",
       " 4.0  3.0  3.0  1.0\n",
       " 8.0  7.0  9.0  5.0\n",
       " 6.0  7.0  9.0  8.0"
      ]
     },
     "metadata": {},
     "output_type": "display_data"
    },
    {
     "data": {
      "text/plain": [
       "4-element Vector{Float64}:\n",
       " 2.0\n",
       " 2.0\n",
       " 2.0\n",
       " 2.0"
      ]
     },
     "metadata": {},
     "output_type": "display_data"
    }
   ],
   "source": []
  },
  {
   "cell_type": "code",
   "execution_count": 71,
   "metadata": {},
   "outputs": [
    {
     "name": "stdout",
     "output_type": "stream",
     "text": [
      "truetrue"
     ]
    }
   ],
   "source": [
    "function classical_gram_schmidt(a)\n",
    "    m = size(a, 1)\n",
    "    n = size(a, 2)\n",
    "    r = zeros(Float64, n, n)\n",
    "    q = copy(a)\n",
    "    for j=1:n\n",
    "        for i=1:j-1, k=1:m\n",
    "            r[i, j] += q[k, i] * q[k, j]\n",
    "        end\n",
    "        for i=1:j-1, k=1:m\n",
    "            q[k,j] -= q[k,i] * r[i,j]\n",
    "        end\n",
    "        r[j,j] = norm( q[:, j] )\n",
    "        q[:, j] /= r[j,j]\n",
    "    end\n",
    "    return q, r\n",
    "end\n",
    "\n",
    "# A = float([2 1 1 0; 4 3 3 1; 8 7 9 5; 6 7 9 8])\n",
    "A = randn(30, 20) \n",
    "# display(A)\n",
    "# display(A')\n",
    "\n",
    "Q, R = classical_gram_schmidt(A)\n",
    "\n",
    "print(Q' * Q ≈ I)\n",
    "print(Q * R ≈ A)"
   ]
  },
  {
   "cell_type": "code",
   "execution_count": 78,
   "metadata": {},
   "outputs": [
    {
     "name": "stdout",
     "output_type": "stream",
     "text": [
      "truetrue"
     ]
    }
   ],
   "source": [
    "function modified_gram_schmidt(A)\n",
    "    m = size(A, 1)\n",
    "    n = size(A, 2)\n",
    "    R = zeros(Float64, n, n)\n",
    "    Q = copy(A)\n",
    "    for j=1:n\n",
    "        for i=1:j-1\n",
    "            for k=1:m\n",
    "                R[i,j] += Q[k,i] * Q[k,j]\n",
    "            end\n",
    "            for k=1:m\n",
    "                Q[k,j] -= Q[k,i] * R[i,j]\n",
    "            end\n",
    "        end\n",
    "        R[j,j] = norm(Q[:,j])\n",
    "        Q[:,j] /= R[j,j]\n",
    "    end\n",
    "    return Q, R\n",
    "end\n",
    "\n",
    "# A = float([2 1 1 0; 4 3 3 1; 8 7 9 5; 6 7 9 8])\n",
    "A = randn(30, 20) \n",
    "# display(A)\n",
    "# display(A')\n",
    "\n",
    "Q, R = modified_gram_schmidt(A)\n",
    "\n",
    "# display(Q)\n",
    "# display(Q' * Q)\n",
    "print(Q' * Q ≈ I)\n",
    "print(Q * R ≈ A)"
   ]
  },
  {
   "cell_type": "code",
   "execution_count": 81,
   "metadata": {},
   "outputs": [],
   "source": [
    "function house(x)\n",
    "    sigma = x[2:end]' * x[2:end]\n",
    "    v = copy(x)\n",
    "    if sigma == 0\n",
    "        beta = 0 \n",
    "        return beta, v\n",
    "    end\n",
    "\n",
    "    sq = sqrt(x[1]^2 + sigma)\n",
    "    if x[1] > 0\n",
    "        v[1] += sq\n",
    "    else\n",
    "        v[1] -= sq\n",
    "    end\n",
    "\n",
    "    beta = 2/(v[1]^2 + sigma)\n",
    "    return beta, v\n",
    "end\n",
    "\n",
    "function householder_QR!(A)\n",
    "    # YOUR CODE HERE\n",
    "    m = size(A, 1)\n",
    "    n = size(A, 2)\n",
    "    vA = zeros(n)\n",
    "    kend = (m > n ? n : m-1)\n",
    "    for k=1:kend\n",
    "        beta, v = house(A[k:end, k])\n",
    "        for j=k:n\n",
    "            vA[j] = 0\n",
    "            for i=k:m\n",
    "                vA[j] += v[i-k+1] * A[i,j]\n",
    "            end\n",
    "            vA[j] *= beta\n",
    "        end\n",
    "        for j=k:n, i=k:m\n",
    "            A[i,j] -= v[i-k+1] * vA[j]\n",
    "        end\n",
    "        A[k+1:end,k] = v[2:end]\n",
    "    end\n",
    "end\n",
    "\n",
    "A = randn(5, 2) \n",
    "allocated_memory = @ballocated householder_QR!(A)\n",
    "allocated_memory == 0"
   ]
  }
 ],
 "metadata": {
  "kernelspec": {
   "display_name": "Julia 1.8.5",
   "language": "julia",
   "name": "julia-1.8"
  },
  "language_info": {
   "file_extension": ".jl",
   "mimetype": "application/julia",
   "name": "julia",
   "version": "1.8.5"
  },
  "orig_nbformat": 4
 },
 "nbformat": 4,
 "nbformat_minor": 2
}
