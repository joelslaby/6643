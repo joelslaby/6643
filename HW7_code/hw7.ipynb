{
 "cells": [
  {
   "cell_type": "code",
   "execution_count": 7,
   "metadata": {},
   "outputs": [],
   "source": [
    "using BenchmarkTools: @ballocated\n",
    "using LinearAlgebra: I, norm, triu, tril, tr, diagm, diag, qr, eigvals, istriu, dot\n",
    "using CairoMakie"
   ]
  },
  {
   "cell_type": "code",
   "execution_count": 78,
   "metadata": {},
   "outputs": [
    {
     "data": {
      "text/plain": [
       "5×5 Matrix{Float64}:\n",
       " 1.68495   0.928051  1.10032  0.622746  0.986485\n",
       " 0.928051  0.640303  1.03377  0.61696   0.677422\n",
       " 1.10032   1.03377   2.27118  1.51781   1.1757\n",
       " 0.622746  0.61696   1.51781  1.17884   0.741031\n",
       " 0.986485  0.677422  1.1757   0.741031  0.798362"
      ]
     },
     "metadata": {},
     "output_type": "display_data"
    },
    {
     "data": {
      "text/plain": [
       "5×5 Matrix{Float64}:\n",
       " 0.819078  1.81353   7.91034e-16  -1.77946e-14  3.29511e-14\n",
       " 1.81353   4.48795   0.677473     -4.3604e-14   8.05948e-14\n",
       " 0.0       0.677473  1.11983       0.0739697    1.03878e-14\n",
       " 0.0       0.0       0.0739697     0.040896     0.0199846\n",
       " 0.0       0.0       0.0           0.0199846    0.105883"
      ]
     },
     "metadata": {},
     "output_type": "display_data"
    },
    {
     "data": {
      "text/plain": [
       "true"
      ]
     },
     "metadata": {},
     "output_type": "display_data"
    },
    {
     "data": {
      "text/plain": [
       "true"
      ]
     },
     "metadata": {},
     "output_type": "display_data"
    }
   ],
   "source": [
    "function arnoldi(A, q1, kmax)\n",
    "    H = zeros(kmax, kmax)\n",
    "    Q = zeros(size(q1, 1), kmax)\n",
    "\n",
    "    Q[:, 1] = q1 / norm(q1)\n",
    "    for k = 1:kmax\n",
    "        if k > 1\n",
    "            Q[:, k] = q1/ H[k, k-1]\n",
    "        end\n",
    "\n",
    "        q1 = A * Q[:, k]\n",
    "        for i = 1:k\n",
    "            H[i, k] = 0\n",
    "            for j = 1:size(q1, 1)\n",
    "                H[i, k] += Q[j, i] * q1[j]\n",
    "            end\n",
    "            q1 -= H[i, k] * Q[:, i]\n",
    "        end\n",
    "\n",
    "        if k < kmax\n",
    "            H[k+1, k] = norm(q1)\n",
    "        end\n",
    "    end\n",
    "    return H\n",
    "end\n",
    "\n",
    "m = 5\n",
    "A = rand(m,m)\n",
    "A = A * A' \n",
    "display(A)\n",
    "H = arnoldi(A, randn(m), m)\n",
    "display(H)\n",
    "\n",
    "display(istriu(H[2 : end, 1 : (end - 1)]))\n",
    "display(eigvals(H) ≈ eigvals(A))"
   ]
  },
  {
   "cell_type": "code",
   "execution_count": 80,
   "metadata": {},
   "outputs": [
    {
     "data": {
      "text/plain": [
       "true"
      ]
     },
     "metadata": {},
     "output_type": "display_data"
    }
   ],
   "source": [
    "function lanczos(A, q1, kmax)\n",
    "    T = zeros(kmax, kmax)\n",
    "    r = copy(q1[:, 1])\n",
    "    beta = norm(r)\n",
    "    q1 = zeros(size(A, 1))\n",
    "    \n",
    "    for k = 1:kmax\n",
    "        q0 = copy(q1)\n",
    "        q1 = r/beta\n",
    "        r = A * q1\n",
    "        alpha = 0\n",
    "        for j = 1:size(r, 1)\n",
    "            alpha += q1[j] * r[j]\n",
    "        end\n",
    "        T[k, k] = alpha\n",
    "        if k > 1\n",
    "            T[k-1, k] = beta\n",
    "            T[k, k-1] = beta\n",
    "        end\n",
    "        r = r - alpha*q1 - beta * q0\n",
    "        beta = norm(r)\n",
    "    end\n",
    "    return diag(T), diag(T,1)\n",
    "end\n",
    "\n",
    "m = 5\n",
    "A = rand(m,m)\n",
    "A = A * A' \n",
    "a, b = lanczos(A, randn(m), m)\n",
    "\n",
    "H = diagm(-1 => b, 0 => a, 1 => b)\n",
    "\n",
    "eigvals(H) ≈ eigvals(A) "
   ]
  },
  {
   "cell_type": "code",
   "execution_count": 116,
   "metadata": {},
   "outputs": [
    {
     "data": {
      "text/plain": [
       "CairoMakie.Screen{PDF}\n"
      ]
     },
     "metadata": {},
     "output_type": "display_data"
    }
   ],
   "source": [
    "m = 8\n",
    "A = rand(m,m)\n",
    "Q,_ = qr(A)\n",
    "λ = 3 .^ range(0,m-1)\n",
    "Σ = diagm(λ)\n",
    "T = Q'Σ*Q\n",
    "\n",
    "max_eigs_A = zeros(m)\n",
    "max_eigs_L = zeros(m)\n",
    "\n",
    "# display(T)\n",
    "for kmax = 1:m\n",
    "    H_A = arnoldi(T, randn(m), kmax)\n",
    "    max_eigs_A[kmax] = sort(eigvals(H_A), rev=true)[1]\n",
    "\n",
    "    a, b = lanczos(T, randn(m), kmax)\n",
    "    H_L = diagm(-1 => b, 0 => a, 1 => b)\n",
    "    max_eigs_L[kmax] = sort(eigvals(H_L), rev=true)[1]\n",
    "end\n",
    "\n",
    "max_eig_A_error = abs.(max_eigs_A .- 3^(m-1))/3^(m-1)\n",
    "max_eig_L_error = abs.(max_eigs_L .- 3^(m-1))/3^(m-1)\n",
    "\n",
    "error_plot = scatter(1:m, max_eig_A_error, label=\"Arnoldi\", axis=(yscale=log10, xlabel=\"iteration, k\", ylabel=\"Normalized Eigenvalue Error\"))\n",
    "scatter!(1:m, max_eig_L_error, label=\"Lanczos\")\n",
    "axislegend(position=:rt)\n",
    "save(\"compare.pdf\", error_plot)"
   ]
  },
  {
   "cell_type": "code",
   "execution_count": 190,
   "metadata": {},
   "outputs": [
    {
     "data": {
      "text/plain": [
       "8-element Vector{Float64}:\n",
       "      1.0059152000327536\n",
       "      2.021443685050605\n",
       "      3.4066062087189697\n",
       "      4.36702436636957\n",
       "      5.985918579747498\n",
       "      6.99621700967154\n",
       " 100000.00000000001\n",
       " 100000.00000000007"
      ]
     },
     "metadata": {},
     "output_type": "display_data"
    },
    {
     "data": {
      "text/plain": [
       "8-element Vector{Float64}:\n",
       "      0.9999999999991087\n",
       "      1.9999999999986766\n",
       "      3.0000000000024776\n",
       "      4.000000000000933\n",
       "      5.000000000001729\n",
       "      6.000000000000285\n",
       "      6.999999999997204\n",
       " 100000.00000000003"
      ]
     },
     "metadata": {},
     "output_type": "display_data"
    }
   ],
   "source": [
    "m = 8\n",
    "A = rand(m,m)\n",
    "Q,_ = qr(A)\n",
    "λ = [1, 2, 3, 4, 5, 6, 7, 1e5]\n",
    "Σ = diagm(λ)\n",
    "T = Q'Σ*Q\n",
    "\n",
    "# max_eigs_A = zeros(m)\n",
    "# max_eigs_L = zeros(m)\n",
    "\n",
    "# # display(T)\n",
    "# for kmax = 1:m\n",
    "#     H_A = arnoldi(T, randn(m), kmax)\n",
    "#     max_eigs_A[kmax] = sort(eigvals(H_A), rev=true)[1]\n",
    "\n",
    "#     a, b = lanczos(T, randn(m), kmax)\n",
    "#     H_L = diagm(-1 => b, 0 => a, 1 => b)\n",
    "#     max_eigs_L[kmax] = sort(eigvals(H_L), rev=true)[1]\n",
    "# end\n",
    "\n",
    "# max_eig_A_error = abs.(max_eigs_A .- 3^(m-1))/3^(m-1)\n",
    "# max_eig_L_error = abs.(max_eigs_L .- 3^(m-1))/3^(m-1)\n",
    "\n",
    "# error_plot = scatter(1:m, max_eig_A_error, label=\"Arnoldi\", axis=(yscale=log10, xlabel=\"iteration, k\", ylabel=\"Normalized Eigenvalue Error\"))\n",
    "# scatter!(1:m, max_eig_L_error, label=\"Lanczos\")\n",
    "# axislegend(position=:rt)\n",
    "# save(\"compare.pdf\", error_plot)\n",
    "# display(λ)\n",
    "a, b = lanczos(T, randn(m), m)\n",
    "H_L = diagm(-1 => b, 0 => a, 1 => b)\n",
    "display(eigvals(H_L))\n",
    "display(eigvals(T))\n"
   ]
  }
 ],
 "metadata": {
  "kernelspec": {
   "display_name": "Julia 1.8.5",
   "language": "julia",
   "name": "julia-1.8"
  },
  "language_info": {
   "file_extension": ".jl",
   "mimetype": "application/julia",
   "name": "julia",
   "version": "1.8.5"
  },
  "orig_nbformat": 4
 },
 "nbformat": 4,
 "nbformat_minor": 2
}
