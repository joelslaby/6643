{
 "cells": [
  {
   "cell_type": "code",
   "execution_count": 7,
   "metadata": {},
   "outputs": [],
   "source": [
    "using BenchmarkTools: @ballocated\n",
    "using LinearAlgebra: I, norm, triu, tril, tr, diagm, diag, qr, eigvals, istriu, dot\n",
    "using CairoMakie"
   ]
  },
  {
   "cell_type": "code",
   "execution_count": 24,
   "metadata": {},
   "outputs": [
    {
     "data": {
      "text/plain": [
       "5×5 Matrix{Float64}:\n",
       " 0.713131  1.34871  0.913088  1.00638  0.996093\n",
       " 1.34871   2.9192   1.52344   1.85025  2.14215\n",
       " 0.913088  1.52344  1.40556   1.46447  1.11526\n",
       " 1.00638   1.85025  1.46447   2.32263  1.34365\n",
       " 0.996093  2.14215  1.11526   1.34365  1.58368"
      ]
     },
     "metadata": {},
     "output_type": "display_data"
    },
    {
     "data": {
      "text/plain": [
       "5×5 Matrix{Float64}:\n",
       " 0.236755  0.920109  6.66134e-16  -2.8727e-15   4.5079e-14\n",
       " 0.920109  6.86643   2.0088       -1.90438e-14  2.88827e-13\n",
       " 0.0       2.0088    1.42898       0.23303      6.4811e-14\n",
       " 0.0       0.0       0.23303       0.398241     0.0220556\n",
       " 0.0       0.0       0.0           0.0220556    0.013794"
      ]
     },
     "metadata": {},
     "output_type": "display_data"
    },
    {
     "data": {
      "text/plain": [
       "true"
      ]
     },
     "metadata": {},
     "output_type": "display_data"
    },
    {
     "data": {
      "text/plain": [
       "true"
      ]
     },
     "metadata": {},
     "output_type": "display_data"
    }
   ],
   "source": [
    "function arnoldi(A, q1, kmax)\n",
    "    H = zeros(kmax, kmax)\n",
    "    Q = zeros(size(q1, 1), kmax)\n",
    "\n",
    "    Q[:, 1] = q1 / norm(q1)\n",
    "    for k = 1:kmax\n",
    "        if k > 1\n",
    "            Q[:, k] = q1/ H[k, k-1]\n",
    "        end\n",
    "\n",
    "        q1 = A * Q[:, k]\n",
    "        for i = 1:k\n",
    "            H[i,k] = dot(Q[:,i], q1)\n",
    "            q1 -= H[i, k] * Q[:, i]\n",
    "        end\n",
    "\n",
    "        if k < kmax\n",
    "            H[k+1, k] = norm(q1)\n",
    "        end\n",
    "    end\n",
    "    return H\n",
    "end\n",
    "\n",
    "m = 5\n",
    "A = rand(m,m)\n",
    "A = A * A' \n",
    "display(A)\n",
    "H = arnoldi(A, randn(m), m)\n",
    "display(H)\n",
    "\n",
    "display(istriu(H[2 : end, 1 : (end - 1)]))\n",
    "display(eigvals(H) ≈ eigvals(A))"
   ]
  },
  {
   "cell_type": "code",
   "execution_count": 20,
   "metadata": {},
   "outputs": [
    {
     "data": {
      "text/plain": [
       "true"
      ]
     },
     "metadata": {},
     "output_type": "display_data"
    }
   ],
   "source": [
    "function lanczos(A, q1, kmax)\n",
    "    T = zeros(kmax, kmax)\n",
    "    r = copy(q1[:, 1])\n",
    "    beta = norm(r)\n",
    "    q1 = zeros(size(A, 1))\n",
    "    \n",
    "    for k = 1:kmax\n",
    "        q0 = copy(q1)\n",
    "        q1 = r/beta\n",
    "        r = A * q1\n",
    "        alpha = dot(q1, r)\n",
    "        T[k, k] = alpha\n",
    "        if k > 1\n",
    "            T[k-1, k] = beta\n",
    "            T[k, k-1] = beta\n",
    "        end\n",
    "        r = r - alpha*q1 - beta * q0\n",
    "        beta = norm(r)\n",
    "    end\n",
    "    return diag(T), diag(T,1)\n",
    "end\n",
    "\n",
    "m = 5\n",
    "A = rand(m,m)\n",
    "A = A * A' \n",
    "a, b = lanczos(A, randn(m), m)\n",
    "\n",
    "H = diagm(-1 => b, 0 => a, 1 => b)\n",
    "\n",
    "eigvals(H) ≈ eigvals(A) "
   ]
  },
  {
   "cell_type": "code",
   "execution_count": 44,
   "metadata": {},
   "outputs": [
    {
     "data": {
      "text/plain": [
       "10-element Vector{Float64}:\n",
       " 25.572980599599113\n",
       "  2.1008756395892125\n",
       "  1.3427066679802486\n",
       "  1.1456804447877986\n",
       "  1.0134442596792603\n",
       "  0.42088531298615933\n",
       "  0.37488553449994855\n",
       "  0.16119617753307805\n",
       "  0.08581254825565977\n",
       "  0.0013721003841208304"
      ]
     },
     "metadata": {},
     "output_type": "display_data"
    },
    {
     "data": {
      "text/plain": [
       "10-element Vector{Float64}:\n",
       " 25.572980599599106\n",
       "  2.1008756395892125\n",
       "  1.34270666798025\n",
       "  1.1456804447878\n",
       "  1.0134442596792632\n",
       "  0.42088531298615867\n",
       "  0.37488553449994944\n",
       "  0.16119617753307747\n",
       "  0.08581254825566093\n",
       "  0.0013721003841211197"
      ]
     },
     "metadata": {},
     "output_type": "display_data"
    },
    {
     "data": {
      "text/plain": [
       "10-element Vector{Float64}:\n",
       " 25.572980599599106\n",
       "  2.1008756395892156\n",
       "  1.3427066685233195\n",
       "  1.1456804557261269\n",
       "  1.0134442630018525\n",
       "  0.42089144522447913\n",
       "  0.375780511716897\n",
       "  0.1611963079008721\n",
       "  0.08581263466379627\n",
       "  0.0013721336912092346"
      ]
     },
     "metadata": {},
     "output_type": "display_data"
    }
   ],
   "source": [
    "m = 10\n",
    "h_m = 10\n",
    "A = rand(m,m)\n",
    "A = A * A' \n",
    "\n",
    "H_A = arnoldi(A, randn(m), h_m)\n",
    "\n",
    "a, b = lanczos(A, randn(m), h_m)\n",
    "H_L = diagm(-1 => b, 0 => a, 1 => b)\n",
    "\n",
    "display(sort(eigvals(A), rev=true))\n",
    "display(sort(eigvals(H_A), rev=true))\n",
    "display(sort(eigvals(H_L), rev=true))\n",
    "\n",
    "# eigs(H_A)\n"
   ]
  }
 ],
 "metadata": {
  "kernelspec": {
   "display_name": "Julia 1.8.5",
   "language": "julia",
   "name": "julia-1.8"
  },
  "language_info": {
   "file_extension": ".jl",
   "mimetype": "application/julia",
   "name": "julia",
   "version": "1.8.5"
  },
  "orig_nbformat": 4
 },
 "nbformat": 4,
 "nbformat_minor": 2
}
