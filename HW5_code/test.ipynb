{
 "cells": [
  {
   "cell_type": "code",
   "execution_count": 1,
   "metadata": {},
   "outputs": [],
   "source": [
    "import Pkg.instantiate\n",
    "instantiate()\n",
    "using BenchmarkTools: @ballocated\n",
    "using LinearAlgebra: I, norm, istriu, triu, qr, eigvals, diag\n",
    "using CairoMakie"
   ]
  },
  {
   "cell_type": "code",
   "execution_count": 243,
   "metadata": {},
   "outputs": [
    {
     "data": {
      "text/plain": [
       "8-element Vector{Float64}:\n",
       "    0.9999999999999868\n",
       "    3.0000000000002673\n",
       "    9.000000000000089\n",
       "   26.999999999999545\n",
       "   80.99999999999987\n",
       "  242.99999999999994\n",
       "  728.9999999999999\n",
       " 2187.0000000000036"
      ]
     },
     "metadata": {},
     "output_type": "display_data"
    }
   ],
   "source": [
    "#Part A\n",
    "\n",
    "# creates Identity matrix of correct size\n",
    "m = 8\n",
    "T = 1.0 * I(m)\n",
    "\n",
    "# populates diagonal with correct eigenvalues\n",
    "for i=1:size(T, 1)\n",
    "    T[m-i+1,m-i+1] = 3^(i-1)\n",
    "end\n",
    "\n",
    "# generates random eigenvector matrix\n",
    "L = randn(m, m)\n",
    "\n",
    "# creates matrix A from eigendecomposition\n",
    "A = L * T * inv(L)\n",
    "\n",
    "# checks correct eigenvalues\n",
    "display(eigvals(A))"
   ]
  },
  {
   "cell_type": "code",
   "execution_count": 245,
   "metadata": {},
   "outputs": [
    {
     "data": {
      "text/plain": [
       "8-element Vector{Float64}:\n",
       " 2187.0\n",
       "  729.0\n",
       "  243.0\n",
       "   81.0\n",
       "   27.0\n",
       "    9.0\n",
       "    3.0\n",
       "    1.0"
      ]
     },
     "metadata": {},
     "output_type": "display_data"
    },
    {
     "name": "stdout",
     "output_type": "stream",
     "text": [
      "itr 1: diag [-5458.0, -1965.0, -1562.0, 418.9, -6.651, -19.84, 1.885, -2.172]\n",
      "itr 2: diag [2079.0, 676.2, 255.9, 99.24, 18.0, 12.92, -3.621, -0.7608]\n",
      "itr 3: diag [2164.0, -718.2, 243.3, 86.65, 28.5, -8.46, -3.22, -0.8993]\n",
      "itr 4: diag [2181.0, 727.2, 242.8, 82.68, 28.23, 8.59, 3.071, 0.9648]\n",
      "itr 5: diag [2185.0, 728.7, 242.9, 81.53, 27.46, 8.842, 3.023, 0.9881]\n"
     ]
    }
   ],
   "source": [
    "#Part B\n",
    "\n",
    "# Initializes Qk and Rk in QR factorization. Rk has n more dimensions to save the old iterations of Rk matrices\n",
    "n = 5\n",
    "Qk = randn(m, m)\n",
    "Rk = zeros(n, m, m)\n",
    "\n",
    "# run for n iterations (5)\n",
    "for k=1:n\n",
    "    # Update Qk\n",
    "    Qk = A * Qk\n",
    "\n",
    "    # Calculate QR factorization \n",
    "    Qk, Rk[k,:,:] = qr(Qk)\n",
    "\n",
    "    # Grab eigenvalues after each iteration\n",
    "    d = round.(diag(Rk[k,:,:]), sigdigits=4)\n",
    "    println(\"itr $k: diag $d\")\n",
    "end\n",
    "\n",
    "display(diag(T))"
   ]
  },
  {
   "cell_type": "code",
   "execution_count": 277,
   "metadata": {},
   "outputs": [
    {
     "data": {
      "text/plain": [
       "CairoMakie.Screen{PDF}\n"
      ]
     },
     "metadata": {},
     "output_type": "display_data"
    }
   ],
   "source": [
    "#Part A\n",
    "m = 8\n",
    "T = 1.0 * I(m)\n",
    "for i=1:size(T, 1)\n",
    "    T[m-i+1,m-i+1] = 3^(i-1)\n",
    "end\n",
    "L = randn(m, m)\n",
    "A = L * T * inv(L)\n",
    "# A = T\n",
    "\n",
    "#Part B\n",
    "Qk = I(m)\n",
    "n = 5\n",
    "Rk = zeros(n, m, m)\n",
    "Ak = zeros(n, m, m)\n",
    "\n",
    "for k=1:n\n",
    "    Qk = A * Qk\n",
    "    Qk, Rk[k,:,:] = qr(Qk)\n",
    "    Ak[k, :, :] = Qk' * A * Qk\n",
    "\n",
    "    d = round.(diag(Rk[k,:,:]), sigdigits=4)\n",
    "    # println(\"itr $k: diag $d\")\n",
    "end\n",
    "# display(diag(T))\n",
    "\n",
    "\n",
    "# Part C\n",
    "# Calculate eigenvalue estimate error\n",
    "p_max = 3\n",
    "eig_error = zeros(p_max, n)\n",
    "for p=1:p_max\n",
    "    for k=1:n\n",
    "        eig_error[p, k] = abs((diag(Rk[k,:,:])[p] - T[p,p]) / T[p, p])\n",
    "    end\n",
    "end\n",
    "\n",
    "# Calculate theoretical convergence\n",
    "conv_theory = zeros(m, n)\n",
    "for j = 1:m\n",
    "    for i = 1:n\n",
    "        if j==m\n",
    "            conv_theory[j, i] = (T[j, j] / T[j-1, j-1]) ^ i\n",
    "        else\n",
    "            conv_theory[j, i] = (T[j+1, j+1] / T[j, j]) ^ i\n",
    "        end\n",
    "    end\n",
    "end\n",
    "\n",
    "# Plot Error\n",
    "k_list = 1:n\n",
    "error_plot = scatter(k_list, eig_error[1,:], label=\"λ_1 = $(T[1,1])\", axis=(yscale=log10, xlabel=\"iteration, k\", ylabel=\"Normalized Eigenvalue Error\"))\n",
    "for p=2:p_max\n",
    "    scatter!(k_list, eig_error[p,:], label=\"λ_$p = $(T[p,p])\")\n",
    "end\n",
    "scatter!(k_list, conv_theory[1,:], label=\"Theory\")\n",
    "axislegend(position=:rt)\n",
    "save(\"eig_error.pdf\", error_plot)\n",
    "\n",
    "#Part D\n",
    "# Calculate the norm of the submatrix\n",
    "p = 4\n",
    "mat_error = zeros(n,1)\n",
    "for k = 1:n\n",
    "    mat_error[k] = norm(Ak[k, (p+1):m, 1:p])\n",
    "end\n",
    "\n",
    "# Plot the error and convergence\n",
    "mat_error_plot = scatter(1:n, mat_error[:], label=\"Experimental\", axis=(yscale=log10, xlabel=\"iteration, k\", ylabel=\"Norm\"))\n",
    "scatter!(k_list, conv_theory[1,:], label=\"Theory\")\n",
    "axislegend(position=:rt)\n",
    "save(\"mat_error.pdf\", mat_error_plot)"
   ]
  },
  {
   "cell_type": "code",
   "execution_count": 221,
   "metadata": {},
   "outputs": [
    {
     "data": {
      "text/plain": [
       "CairoMakie.Screen{PDF}\n"
      ]
     },
     "metadata": {},
     "output_type": "display_data"
    }
   ],
   "source": []
  }
 ],
 "metadata": {
  "kernelspec": {
   "display_name": "Julia 1.8.5",
   "language": "julia",
   "name": "julia-1.8"
  },
  "language_info": {
   "file_extension": ".jl",
   "mimetype": "application/julia",
   "name": "julia",
   "version": "1.8.5"
  },
  "orig_nbformat": 4
 },
 "nbformat": 4,
 "nbformat_minor": 2
}
