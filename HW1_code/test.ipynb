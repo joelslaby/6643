{
 "cells": [
  {
   "cell_type": "code",
   "execution_count": 89,
   "metadata": {},
   "outputs": [
    {
     "data": {
      "text/plain": [
       "3-element Vector{Int64}:\n",
       "  60\n",
       " 140\n",
       " 220"
      ]
     },
     "metadata": {},
     "output_type": "display_data"
    }
   ],
   "source": [
    "A = [\n",
    "    1 2 3 4\n",
    "    5 6 7 8\n",
    "    9 10 11 12\n",
    "]\n",
    "v = [2, 4, 6, 8]\n",
    "\n",
    "A*v"
   ]
  },
  {
   "cell_type": "code",
   "execution_count": 90,
   "metadata": {},
   "outputs": [
    {
     "data": {
      "text/plain": [
       "3×1 Matrix{Float64}:\n",
       "  60.0\n",
       " 140.0\n",
       " 220.0"
      ]
     },
     "metadata": {},
     "output_type": "display_data"
    }
   ],
   "source": [
    "u = zeros(size(A)[1], 1)\n",
    "\n",
    "for row in 1:size(A)[1]\n",
    "    u[row] = 0\n",
    "    for col in 1:size(A)[2]\n",
    "        u[row] += A[row, col] * v[col]\n",
    "    end\n",
    "end\n",
    "u"
   ]
  },
  {
   "cell_type": "code",
   "execution_count": 99,
   "metadata": {},
   "outputs": [
    {
     "data": {
      "text/plain": [
       "3×1 Matrix{Float64}:\n",
       "  60.0\n",
       " 140.0\n",
       " 220.0"
      ]
     },
     "metadata": {},
     "output_type": "display_data"
    }
   ],
   "source": [
    "# u = zeros(size(A)[1], 1)\n",
    "\n",
    "for col in 1:size(A)[2]\n",
    "    for row in 1:size(A)[1]\n",
    "        if col == 1\n",
    "            u[row] = A[row, col] * v[col]\n",
    "        else\n",
    "            u[row] += A[row, col] * v[col]\n",
    "        end\n",
    "    end\n",
    "end\n",
    "u"
   ]
  },
  {
   "cell_type": "code",
   "execution_count": 101,
   "metadata": {},
   "outputs": [
    {
     "data": {
      "text/plain": [
       "3×2 Matrix{Int64}:\n",
       " 100  120\n",
       " 228  280\n",
       " 356  440"
      ]
     },
     "metadata": {},
     "output_type": "display_data"
    }
   ],
   "source": [
    "B = [\n",
    "    1 2 3 4\n",
    "    5 6 7 8\n",
    "    9 10 11 12\n",
    "]\n",
    "\n",
    "C = [\n",
    "    2 4\n",
    "    6 8\n",
    "    10 12\n",
    "    14 16\n",
    "]\n",
    "\n",
    "B*C"
   ]
  },
  {
   "cell_type": "code",
   "execution_count": 102,
   "metadata": {},
   "outputs": [
    {
     "data": {
      "text/plain": [
       "3×2 Matrix{Float64}:\n",
       " 100.0  120.0\n",
       " 228.0  280.0\n",
       " 356.0  440.0"
      ]
     },
     "metadata": {},
     "output_type": "display_data"
    }
   ],
   "source": [
    "A = zeros(size(B)[1], size(C)[2])\n",
    "\n",
    "for row in 1:size(B)[1]\n",
    "    for col in 1:size(C)[2]\n",
    "        for idx in 1: size(B)[2]\n",
    "            A[row, col] += B[row, idx] * C[idx, col]\n",
    "        end\n",
    "    end\n",
    "end\n",
    "A"
   ]
  },
  {
   "cell_type": "code",
   "execution_count": 108,
   "metadata": {},
   "outputs": [
    {
     "data": {
      "text/plain": [
       "3×2 Matrix{Float64}:\n",
       " 100.0  120.0\n",
       " 228.0  280.0\n",
       " 356.0  440.0"
      ]
     },
     "metadata": {},
     "output_type": "display_data"
    }
   ],
   "source": [
    "# A = zeros(size(B)[1], size(C)[2])\n",
    "\n",
    "for idx in 1: size(B)[2]\n",
    "    for row in 1:size(B)[1]\n",
    "        for col in 1:size(C)[2]\n",
    "            if idx == 1\n",
    "                A[row, col] = B[row, idx] * C[idx, col]\n",
    "            else\n",
    "                A[row, col] += B[row, idx] * C[idx, col]\n",
    "            end\n",
    "        end\n",
    "    end\n",
    "end\n",
    "\n",
    "A"
   ]
  },
  {
   "cell_type": "code",
   "execution_count": 110,
   "metadata": {},
   "outputs": [
    {
     "data": {
      "text/plain": [
       "3×2 Matrix{Float64}:\n",
       " 100.0  120.0\n",
       " 228.0  280.0\n",
       " 356.0  440.0"
      ]
     },
     "metadata": {},
     "output_type": "display_data"
    }
   ],
   "source": [
    "# A = zeros(size(B)[1], size(C)[2])\n",
    "\n",
    "for row in 1:size(B)[1]\n",
    "    for idx in 1: size(B)[2]\n",
    "        for col in 1:size(C)[2]\n",
    "            if idx == 1\n",
    "                A[row, col] = B[row, idx] * C[idx, col]\n",
    "            else\n",
    "                A[row, col] += B[row, idx] * C[idx, col]\n",
    "            end\n",
    "        end\n",
    "    end\n",
    "end\n",
    "\n",
    "A"
   ]
  },
  {
   "cell_type": "code",
   "execution_count": null,
   "metadata": {},
   "outputs": [],
   "source": [
    "A = zeros(size(B)[1], size(C)[2])\n",
    "\n",
    "for row in 1:size(B)[1]\n",
    "    for idx in 1: size(B)[2]\n",
    "        for col in 1:size(C)[2]\n",
    "            A[row, col] += B[row, idx] * C[idx, col]\n",
    "        end\n",
    "    end\n",
    "end\n",
    "\n",
    "A"
   ]
  }
 ],
 "metadata": {
  "kernelspec": {
   "display_name": "Julia 1.8.5",
   "language": "julia",
   "name": "julia-1.8"
  },
  "language_info": {
   "file_extension": ".jl",
   "mimetype": "application/julia",
   "name": "julia",
   "version": "1.8.5"
  },
  "orig_nbformat": 4
 },
 "nbformat": 4,
 "nbformat_minor": 2
}
